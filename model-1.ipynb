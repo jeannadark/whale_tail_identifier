{
 "cells": [
  {
   "cell_type": "markdown",
   "metadata": {},
   "source": [
    "## Import Libraries"
   ]
  },
  {
   "cell_type": "code",
   "execution_count": 1,
   "metadata": {},
   "outputs": [
    {
     "name": "stderr",
     "output_type": "stream",
     "text": [
      "Using TensorFlow backend.\n"
     ]
    }
   ],
   "source": [
    "from image_preprocessing import datagens, prepareImages, prepareLabels\n",
    "from train_valid_split import train_valid_split, train_valid_dict_generator"
   ]
  },
  {
   "cell_type": "code",
   "execution_count": 2,
   "metadata": {},
   "outputs": [],
   "source": [
    "from keras.preprocessing import image\n",
    "from keras.applications.imagenet_utils import preprocess_input\n",
    "from sklearn.preprocessing import LabelEncoder\n",
    "from keras.utils.np_utils import to_categorical"
   ]
  },
  {
   "cell_type": "code",
   "execution_count": 3,
   "metadata": {},
   "outputs": [],
   "source": [
    "import tensorflow as tf\n",
    "from PIL import Image\n",
    "\n",
    "from tensorflow.keras.preprocessing.image import ImageDataGenerator\n",
    "from tensorflow import keras\n",
    "from tensorflow.keras import layers"
   ]
  },
  {
   "cell_type": "code",
   "execution_count": 4,
   "metadata": {},
   "outputs": [],
   "source": [
    "import pandas as pd\n",
    "import numpy as np\n",
    "import cv2"
   ]
  },
  {
   "cell_type": "code",
   "execution_count": 51,
   "metadata": {},
   "outputs": [],
   "source": [
    "import model4"
   ]
  },
  {
   "cell_type": "code",
   "execution_count": 52,
   "metadata": {},
   "outputs": [],
   "source": [
    "from model4 import model_deep"
   ]
  },
  {
   "cell_type": "code",
   "execution_count": 7,
   "metadata": {},
   "outputs": [],
   "source": [
    "from tensorflow.keras.optimizers import Adam\n",
    "\n",
    "from keras.callbacks import ReduceLROnPlateau"
   ]
  },
  {
   "cell_type": "markdown",
   "metadata": {},
   "source": [
    "## Load Images & Labels "
   ]
  },
  {
   "cell_type": "code",
   "execution_count": 8,
   "metadata": {},
   "outputs": [],
   "source": [
    "# load training data with image names and Ids\n",
    "train_labels = pd.read_csv(\"df_train.csv\")"
   ]
  },
  {
   "cell_type": "code",
   "execution_count": 9,
   "metadata": {},
   "outputs": [],
   "source": [
    "train, valid = train_valid_split(train_labels)"
   ]
  },
  {
   "cell_type": "code",
   "execution_count": 10,
   "metadata": {},
   "outputs": [],
   "source": [
    "train_df, valid_df = train_valid_dict_generator(train,valid,train_labels)"
   ]
  },
  {
   "cell_type": "code",
   "execution_count": 11,
   "metadata": {},
   "outputs": [],
   "source": [
    "train_df_final = pd.DataFrame(train_df.items(), columns=['Image', 'Id'])\n",
    "valid_df_final = pd.DataFrame(valid_df.items(), columns=['Image', 'Id'])"
   ]
  },
  {
   "cell_type": "code",
   "execution_count": 16,
   "metadata": {},
   "outputs": [],
   "source": [
    "all_train_classes = list(train_df_final['Id'].unique())"
   ]
  },
  {
   "cell_type": "code",
   "execution_count": 17,
   "metadata": {},
   "outputs": [],
   "source": [
    "all_valid_classes = list(valid_df_final['Id'].unique())"
   ]
  },
  {
   "cell_type": "code",
   "execution_count": 19,
   "metadata": {},
   "outputs": [],
   "source": [
    "# keep only the common classes within both datasets\n",
    "common_classes = []\n",
    "for i in all_valid_classes:\n",
    "    if i in all_train_classes:\n",
    "        common_classes.append(i)"
   ]
  },
  {
   "cell_type": "code",
   "execution_count": 46,
   "metadata": {},
   "outputs": [],
   "source": [
    "train_df_final = train_df_final[train_df_final['Id'].isin(common_classes)]"
   ]
  },
  {
   "cell_type": "code",
   "execution_count": 47,
   "metadata": {},
   "outputs": [
    {
     "name": "stdout",
     "output_type": "stream",
     "text": [
      "Processing image:  1 ,  0000e88ab.jpg\n",
      "Processing image:  501 ,  07c035b2b.jpg\n",
      "Processing image:  1001 ,  w_4e1e04dfg3819.jpg\n",
      "Processing image:  1501 ,  2cec8d6eb.jpg\n",
      "Processing image:  2001 ,  w_89f521efg18213.jpg\n",
      "Processing image:  2501 ,  w_c875e45fg10023.jpg\n",
      "Processing image:  3001 ,  9bb2205c1.jpg\n",
      "Processing image:  3501 ,  028e0f415.jpg\n",
      "Processing image:  4001 ,  e4d1c6750.jpg\n",
      "Processing image:  4501 ,  145d97da0.jpg\n",
      "Processing image:  5001 ,  660ce1b74.jpg\n",
      "Processing image:  5501 ,  w_40a6c9cfg2641.jpg\n",
      "Processing image:  6001 ,  w_9748a78fg28712.jpg\n",
      "Processing image:  6501 ,  w_a059841fg107911.jpg\n",
      "Processing image:  7001 ,  w_aa32f70fg3442.jpg\n",
      "Processing image:  7501 ,  06b0680ea.jpg\n",
      "Processing image:  8001 ,  fee4c2709.jpg\n",
      "Processing image:  8501 ,  w_171dc55fg141712.jpg\n",
      "Processing image:  9001 ,  081ee4083.jpg\n",
      "Processing image:  9501 ,  w_34ecf36fg201432.jpg\n",
      "Processing image:  10001 ,  cf3308136.jpg\n",
      "Processing image:  10501 ,  0a1aa01e8.jpg\n",
      "Processing image:  11001 ,  w_dfb57ccfg5910.jpg\n",
      "Processing image:  11501 ,  393235da9.jpg\n",
      "Processing image:  12001 ,  w_4e9b3a3fg6640.jpg\n",
      "Processing image:  12501 ,  w_6aab519fg302313.jpg\n",
      "Processing image:  13001 ,  w_00904a7fg223811.jpg\n",
      "Processing image:  13501 ,  251cc1dec.jpg\n",
      "Processing image:  14001 ,  0eb135371.jpg\n",
      "Processing image:  14501 ,  w_8f1069afg16763.jpg\n",
      "Processing image:  15001 ,  w_8340caffg89410.jpg\n",
      "Processing image:  15501 ,  w_7d34a32fg95611.jpg\n",
      "Processing image:  16001 ,  w_15d12c7fg100011.jpg\n",
      "Processing image:  16501 ,  e810d6f94.jpg\n",
      "Processing image:  17001 ,  13ab980b8.jpg\n",
      "Processing image:  17501 ,  w_5bf792afg112124.jpg\n",
      "Processing image:  18001 ,  w_185bc11fg117412.jpg\n",
      "Processing image:  18501 ,  w_731fe92fg12131.jpg\n",
      "Processing image:  19001 ,  w_06935edfg126212.jpg\n",
      "Processing image:  19501 ,  17f43bbf7.jpg\n",
      "Processing image:  20001 ,  18f47a54f.jpg\n",
      "Processing image:  20501 ,  w_835a1ebfg143413.jpg\n",
      "Processing image:  21001 ,  3f4872061.jpg\n",
      "Processing image:  21501 ,  w_e8c5ff0fg153924.jpg\n",
      "Processing image:  22001 ,  1cff7dff7.jpg\n",
      "Processing image:  22501 ,  w_be1f602fg16520.jpg\n",
      "Processing image:  23001 ,  w_6e7763bfg170811.jpg\n",
      "Processing image:  23501 ,  w_32da935fg177821.jpg\n",
      "Processing image:  24001 ,  21ee9f136.jpg\n",
      "Processing image:  24501 ,  b8de9504d.jpg\n",
      "Processing image:  25001 ,  w_b23555dfg20100.jpg\n",
      "Processing image:  25501 ,  w_9ece6cbfg210611.jpg\n",
      "Processing image:  26001 ,  w_853aa18fg219319.jpg\n",
      "Processing image:  26501 ,  792839e69.jpg\n",
      "Processing image:  27001 ,  2a882f692.jpg\n",
      "Processing image:  27501 ,  w_647da1ffg24461.jpg\n",
      "Processing image:  28001 ,  w_aee6701fg252619.jpg\n",
      "Processing image:  28501 ,  w_6755824fg263110.jpg\n",
      "Processing image:  29001 ,  w_bdded04fg27151.jpg\n",
      "Processing image:  29501 ,  w_f3b2948fg280216.jpg\n",
      "Processing image:  30001 ,  w_06460d7fg290811.jpg\n",
      "Processing image:  30501 ,  w_356b5b7fg30331.jpg\n",
      "Processing image:  31001 ,  935851f78.jpg\n",
      "Processing image:  31501 ,  9cfb22794.jpg\n",
      "Processing image:  32001 ,  w_291b418fg33831.jpg\n",
      "Processing image:  32501 ,  d4d583d8d.jpg\n",
      "Processing image:  33001 ,  w_177d88efg365810.jpg\n",
      "Processing image:  33501 ,  w_85a2285fg379611.jpg\n",
      "Processing image:  34001 ,  w_1344da3fg393010.jpg\n",
      "Processing image:  34501 ,  w_df6b050fg406413.jpg\n",
      "Processing image:  35001 ,  w_63386cdfg419412.jpg\n"
     ]
    }
   ],
   "source": [
    "# prepare the training images by applying preprocessing and normalization\n",
    "X_train = prepareImages(train_df_final,train_df_final.shape[0], \"...\\\\Documents\\\\whale_identification\\\\whale_identification\\\\data\\\\train_rev1\\\\\")"
   ]
  },
  {
   "cell_type": "code",
   "execution_count": 48,
   "metadata": {},
   "outputs": [
    {
     "data": {
      "text/plain": [
       "(35146, 40, 40, 3)"
      ]
     },
     "execution_count": 48,
     "metadata": {},
     "output_type": "execute_result"
    }
   ],
   "source": [
    "X_train.shape"
   ]
  },
  {
   "cell_type": "code",
   "execution_count": 49,
   "metadata": {},
   "outputs": [],
   "source": [
    "# prepare classes by one hot encoding whale categories\n",
    "y_train = prepareLabels(train_df_final,len(train_df_final['Id'].unique()))"
   ]
  },
  {
   "cell_type": "code",
   "execution_count": 50,
   "metadata": {},
   "outputs": [
    {
     "data": {
      "text/plain": [
       "(35146, 2572)"
      ]
     },
     "execution_count": 50,
     "metadata": {},
     "output_type": "execute_result"
    }
   ],
   "source": [
    "y_train.shape"
   ]
  },
  {
   "cell_type": "markdown",
   "metadata": {},
   "source": [
    "- We have more classes represented in validation set than in the training set, because of the way we split the data originally.\n",
    "- For consistency and for the purposes of this notebook, let's keep just the common classes for now."
   ]
  },
  {
   "cell_type": "code",
   "execution_count": 18,
   "metadata": {},
   "outputs": [
    {
     "data": {
      "text/plain": [
       "2641"
      ]
     },
     "execution_count": 18,
     "metadata": {},
     "output_type": "execute_result"
    }
   ],
   "source": [
    "len(all_train_classes)"
   ]
  },
  {
   "cell_type": "code",
   "execution_count": 20,
   "metadata": {},
   "outputs": [
    {
     "data": {
      "text/plain": [
       "2572"
      ]
     },
     "execution_count": 20,
     "metadata": {},
     "output_type": "execute_result"
    }
   ],
   "source": [
    "len(common_classes)"
   ]
  },
  {
   "cell_type": "code",
   "execution_count": 21,
   "metadata": {},
   "outputs": [],
   "source": [
    "valid_df_final = valid_df_final[valid_df_final['Id'].isin(common_classes)]"
   ]
  },
  {
   "cell_type": "code",
   "execution_count": 24,
   "metadata": {},
   "outputs": [
    {
     "name": "stdout",
     "output_type": "stream",
     "text": [
      "Processing image:  1 ,  w_f48451cfg02.jpg\n",
      "Processing image:  501 ,  w_89f521efg18222.jpg\n",
      "Processing image:  1001 ,  w_3f7d5f5fg17125.jpg\n",
      "Processing image:  1501 ,  w_37d2f3afg121529.jpg\n",
      "Processing image:  2001 ,  w_5773c71fg132036.jpg\n",
      "Processing image:  2501 ,  w_15e7de5fg50714.jpg\n",
      "Processing image:  3001 ,  w_b86917dfg378020.jpg\n",
      "Processing image:  3501 ,  w_3cb4838fg369022.jpg\n",
      "Processing image:  4001 ,  w_acba807fg296623.jpg\n",
      "Processing image:  4501 ,  w_c1d2d7ffg113422.jpg\n",
      "Processing image:  5001 ,  w_2af46a8fg133025.jpg\n",
      "Processing image:  5501 ,  w_2112103fg154228.jpg\n",
      "Processing image:  6001 ,  w_d3b1733fg177726.jpg\n",
      "Processing image:  6501 ,  w_ba77e9cfg209414.jpg\n",
      "Processing image:  7001 ,  w_c190aa8fg242316.jpg\n",
      "Processing image:  7501 ,  w_67f670efg277214.jpg\n",
      "Processing image:  8001 ,  w_c7e1b12fg319914.jpg\n",
      "Processing image:  8501 ,  w_f182e2afg371415.jpg\n",
      "Processing image:  9001 ,  w_e31480ffg422316.jpg\n"
     ]
    }
   ],
   "source": [
    "# prepare validation features by applying preprocessing and normalization\n",
    "X_valid = prepareImages(valid_df_final,valid_df_final.shape[0], \"...\\\\Documents\\\\whale_identification\\\\whale_identification\\\\data\\\\train\\\\\")"
   ]
  },
  {
   "cell_type": "code",
   "execution_count": 25,
   "metadata": {},
   "outputs": [
    {
     "data": {
      "text/plain": [
       "(9015, 40, 40, 3)"
      ]
     },
     "execution_count": 25,
     "metadata": {},
     "output_type": "execute_result"
    }
   ],
   "source": [
    "X_valid.shape"
   ]
  },
  {
   "cell_type": "code",
   "execution_count": 26,
   "metadata": {},
   "outputs": [],
   "source": [
    "# prepare validation labels by one hot encoding the whale categories\n",
    "y_valid = prepareLabels(valid_df_final,len(valid_df_final['Id'].unique()))"
   ]
  },
  {
   "cell_type": "markdown",
   "metadata": {},
   "source": [
    "## Train a CNN"
   ]
  },
  {
   "cell_type": "code",
   "execution_count": 53,
   "metadata": {},
   "outputs": [],
   "source": [
    "model = model_deep()"
   ]
  },
  {
   "cell_type": "code",
   "execution_count": 54,
   "metadata": {},
   "outputs": [],
   "source": [
    "model.compile(optimizer='Adam', loss='categorical_crossentropy',metrics =['accuracy'])"
   ]
  },
  {
   "cell_type": "code",
   "execution_count": 55,
   "metadata": {},
   "outputs": [],
   "source": [
    "# apply data augmentations\n",
    "train_datagen, valid_datagen = datagens()"
   ]
  },
  {
   "cell_type": "code",
   "execution_count": 56,
   "metadata": {},
   "outputs": [],
   "source": [
    "epochs = 20\n",
    "batch_size = 1000"
   ]
  },
  {
   "cell_type": "code",
   "execution_count": 57,
   "metadata": {},
   "outputs": [],
   "source": [
    "validation_set = valid_datagen.flow(X_valid, y_valid, batch_size = batch_size)"
   ]
  },
  {
   "cell_type": "code",
   "execution_count": 58,
   "metadata": {},
   "outputs": [
    {
     "name": "stdout",
     "output_type": "stream",
     "text": [
      "Epoch 1/20\n",
      " - 201s - loss: 7.7753 - accuracy: 0.0019 - val_loss: 7.7284 - val_accuracy: 0.0019\n",
      "Epoch 2/20\n",
      " - 187s - loss: 7.3668 - accuracy: 0.0075 - val_loss: 7.4185 - val_accuracy: 0.0017\n",
      "Epoch 3/20\n",
      " - 201s - loss: 6.9359 - accuracy: 0.0164 - val_loss: 7.1414 - val_accuracy: 0.0070\n",
      "Epoch 4/20\n",
      " - 194s - loss: 6.5520 - accuracy: 0.0291 - val_loss: 6.8367 - val_accuracy: 0.0145\n",
      "Epoch 5/20\n",
      " - 193s - loss: 6.2370 - accuracy: 0.0480 - val_loss: 6.5074 - val_accuracy: 0.0279\n",
      "Epoch 6/20\n",
      " - 198s - loss: 5.8869 - accuracy: 0.0696 - val_loss: 5.9941 - val_accuracy: 0.0621\n",
      "Epoch 7/20\n",
      " - 196s - loss: 5.5757 - accuracy: 0.0965 - val_loss: 5.5127 - val_accuracy: 0.1041\n",
      "Epoch 8/20\n",
      " - 199s - loss: 5.2159 - accuracy: 0.1334 - val_loss: 5.0974 - val_accuracy: 0.1446\n",
      "Epoch 9/20\n",
      " - 198s - loss: 4.9027 - accuracy: 0.1710 - val_loss: 4.7633 - val_accuracy: 0.1928\n",
      "Epoch 10/20\n",
      " - 204s - loss: 4.6166 - accuracy: 0.2075 - val_loss: 4.0623 - val_accuracy: 0.2472\n",
      "Epoch 11/20\n",
      " - 204s - loss: 4.3314 - accuracy: 0.2476 - val_loss: 4.0941 - val_accuracy: 0.2806\n",
      "Epoch 12/20\n",
      " - 190s - loss: 4.0798 - accuracy: 0.2884 - val_loss: 3.6341 - val_accuracy: 0.3703\n",
      "Epoch 13/20\n",
      " - 191s - loss: 3.8112 - accuracy: 0.3288 - val_loss: 3.3396 - val_accuracy: 0.4052\n",
      "Epoch 14/20\n",
      " - 192s - loss: 3.6066 - accuracy: 0.3680 - val_loss: 2.8860 - val_accuracy: 0.4729\n",
      "Epoch 15/20\n",
      " - 195s - loss: 3.4408 - accuracy: 0.3904 - val_loss: 2.7982 - val_accuracy: 0.4684\n",
      "Epoch 16/20\n",
      " - 192s - loss: 3.2948 - accuracy: 0.4160 - val_loss: 2.6564 - val_accuracy: 0.5483\n",
      "Epoch 17/20\n",
      " - 194s - loss: 3.0736 - accuracy: 0.4534 - val_loss: 2.2473 - val_accuracy: 0.5810\n",
      "Epoch 18/20\n",
      " - 194s - loss: 2.9814 - accuracy: 0.4652 - val_loss: 2.1376 - val_accuracy: 0.5993\n",
      "Epoch 19/20\n",
      " - 198s - loss: 2.8335 - accuracy: 0.4883 - val_loss: 1.9893 - val_accuracy: 0.6215\n",
      "Epoch 20/20\n",
      " - 186s - loss: 2.7475 - accuracy: 0.5003 - val_loss: 1.8329 - val_accuracy: 0.6362\n"
     ]
    }
   ],
   "source": [
    "history = model.fit_generator(train_datagen.flow(X_train, y_train, batch_size=batch_size),\n",
    "                              epochs= epochs, verbose = 2, \n",
    "                              steps_per_epoch = X_train.shape[0] // batch_size,\n",
    "                              validation_data = validation_set,\n",
    "                              validation_steps = X_valid.shape[0] // batch_size\n",
    "                            )"
   ]
  },
  {
   "cell_type": "code",
   "execution_count": 59,
   "metadata": {},
   "outputs": [],
   "source": [
    "model.save('my_model')\n",
    "model.save_weights('my_weights.h5')"
   ]
  },
  {
   "cell_type": "code",
   "execution_count": 61,
   "metadata": {},
   "outputs": [],
   "source": [
    "import matplotlib.pyplot as plt"
   ]
  },
  {
   "cell_type": "code",
   "execution_count": 64,
   "metadata": {},
   "outputs": [
    {
     "data": {
      "image/png": "[encoded data removed]",
      "text/plain": [
       "<Figure size 432x288 with 1 Axes>"
      ]
     },
     "metadata": {
      "needs_background": "light"
     },
     "output_type": "display_data"
    }
   ],
   "source": [
    "# plot the accuracy curve \n",
    "plt.plot(history.history['val_accuracy'], color='g', label=\"Validation Accuracy\")\n",
    "plt.plot(history.history['accuracy'], color='c', label=\"Train Accuracy\")\n",
    "plt.title(\"Validation Accuracy\")\n",
    "plt.xlabel(\"Number of Epochs\")\n",
    "plt.ylabel(\"Accuracy\")\n",
    "plt.legend()\n",
    "plt.show()"
   ]
  }
 ],
 "metadata": {
  "kernelspec": {
   "display_name": "Python 3",
   "language": "python",
   "name": "python3"
  },
  "language_info": {
   "codemirror_mode": {
    "name": "ipython",
    "version": 3
   },
   "file_extension": ".py",
   "mimetype": "text/x-python",
   "name": "python",
   "nbconvert_exporter": "python",
   "pygments_lexer": "ipython3",
   "version": "3.7.3"
  }
 },
 "nbformat": 4,
 "nbformat_minor": 4
}
